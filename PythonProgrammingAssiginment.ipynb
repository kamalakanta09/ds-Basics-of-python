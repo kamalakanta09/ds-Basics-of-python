{
  "nbformat": 4,
  "nbformat_minor": 0,
  "metadata": {
    "colab": {
      "provenance": []
    },
    "kernelspec": {
      "name": "python3",
      "display_name": "Python 3"
    },
    "language_info": {
      "name": "python"
    }
  },
  "cells": [
    {
      "cell_type": "markdown",
      "source": [
        "**1. Write a Python program that checks whether a given number is prime or not. A prime number is a natural number greater than 1 that has no positive divisors other than 1 and itself.**"
      ],
      "metadata": {
        "id": "8KGW1X24RoLF"
      }
    },
    {
      "cell_type": "code",
      "source": [
        "import math\n",
        "\n",
        "def isPrime(n):\n",
        "  if n < 2 :\n",
        "    return False\n",
        "  # Checking for divisibility from 2 to square root of n\n",
        "  for i in range(2, int(math.sqrt(n)) +1):\n",
        "    if n % i == 0:\n",
        "      return False\n",
        "  return True\n",
        "# Testing the function\n",
        "num = int(input(\"Enter a Number: \"))\n",
        "if isPrime(num):\n",
        "  print(num, \" is a prime number\")\n",
        "else:\n",
        "  print(num, \" is not a prime number\")"
      ],
      "metadata": {
        "colab": {
          "base_uri": "https://localhost:8080/"
        },
        "id": "sScIqOteRun8",
        "outputId": "90721192-a103-4e2d-f831-1c68df850af9"
      },
      "execution_count": null,
      "outputs": [
        {
          "output_type": "stream",
          "name": "stdout",
          "text": [
            "Enter a Number: 11\n",
            "11  is a prime number\n"
          ]
        }
      ]
    },
    {
      "cell_type": "markdown",
      "source": [
        "**2. Develop a Python program that generates two random numbers and asks the user to enter the product of these numbers. The program should then check if the user's answer is correct and display an appropriate message.**"
      ],
      "metadata": {
        "id": "1Q5BhVNeVsPt"
      }
    },
    {
      "cell_type": "code",
      "source": [
        "import random\n",
        "\n",
        "def generateNumbers():\n",
        "  num1 = random.randint(1, 10)\n",
        "  num2 = random.randint(1, 10)\n",
        "  return num1, num2\n",
        "\n",
        "def main():\n",
        "  num1, num2 = generateNumbers()\n",
        "  product = num1 * num2\n",
        "\n",
        "  userAnswer = int(input(f\"what is product of {num1} and {num2}? \"))\n",
        "\n",
        "  if userAnswer == product:\n",
        "    print(\"Congratulations! Your answer is correct.\")\n",
        "  else:\n",
        "    print(f\"Sorry, the correct answer is {product}\")\n",
        "\n",
        "if __name__ == \"__main__\":\n",
        "  main()"
      ],
      "metadata": {
        "colab": {
          "base_uri": "https://localhost:8080/"
        },
        "id": "kcXEPWioT1Q6",
        "outputId": "64fb4ae9-01ca-4aee-d326-36e4bff84eff"
      },
      "execution_count": null,
      "outputs": [
        {
          "output_type": "stream",
          "name": "stdout",
          "text": [
            "what is product of 3 and 4? 11\n",
            "Sorry, the correct answer is 12\n"
          ]
        }
      ]
    },
    {
      "cell_type": "markdown",
      "source": [
        "**3. Create a Python script that prints the squares of all even or odd numbers within the range of 100 to 200. Choose either even or odd numbers and document your choice in the code**"
      ],
      "metadata": {
        "id": "_l0h0fZ6bXpj"
      }
    },
    {
      "cell_type": "code",
      "source": [
        "startRange = 100\n",
        "endRange = 200\n",
        "print(\"Squares of all odd or even numbers within the range of 100 to 200:\")\n",
        "userOption = input(\"Please Input even numbers, type 'even'or odd numbers, type 'odd': \")\n",
        "\n",
        "if userOption.lower() == \"even\":\n",
        "  print(\"Squares of all even numbers within the range of 100 to 200:\")\n",
        "  for i in range(startRange, endRange + 1):\n",
        "    if i % 2 == 0:\n",
        "      print(i, \":\", i **2)\n",
        "elif userOption.lower() == \"odd\":\n",
        "   print(\"Squares of all odd numbers within the range of 100 to 200:\")\n",
        "   for i in range(startRange, endRange + 1):\n",
        "    if i % 2 != 0:\n",
        "      print(i, \":\", i ** 2)\n",
        "else:\n",
        "  print(\"valid option. Please type 'even' or 'odd'.\")"
      ],
      "metadata": {
        "colab": {
          "base_uri": "https://localhost:8080/"
        },
        "id": "CLPA2qOYaX9R",
        "outputId": "ff105128-2a07-4fb8-f36e-0ff5f5c8e3f8"
      },
      "execution_count": null,
      "outputs": [
        {
          "output_type": "stream",
          "name": "stdout",
          "text": [
            "Squares of all odd or even numbers within the range of 100 to 200:\n",
            "Please Input even numbers, type 'even'or odd numbers, type 'odd': even\n",
            "Squares of all even numbers within the range of 100 to 200:\n",
            "100 : 10000\n",
            "102 : 10404\n",
            "104 : 10816\n",
            "106 : 11236\n",
            "108 : 11664\n",
            "110 : 12100\n",
            "112 : 12544\n",
            "114 : 12996\n",
            "116 : 13456\n",
            "118 : 13924\n",
            "120 : 14400\n",
            "122 : 14884\n",
            "124 : 15376\n",
            "126 : 15876\n",
            "128 : 16384\n",
            "130 : 16900\n",
            "132 : 17424\n",
            "134 : 17956\n",
            "136 : 18496\n",
            "138 : 19044\n",
            "140 : 19600\n",
            "142 : 20164\n",
            "144 : 20736\n",
            "146 : 21316\n",
            "148 : 21904\n",
            "150 : 22500\n",
            "152 : 23104\n",
            "154 : 23716\n",
            "156 : 24336\n",
            "158 : 24964\n",
            "160 : 25600\n",
            "162 : 26244\n",
            "164 : 26896\n",
            "166 : 27556\n",
            "168 : 28224\n",
            "170 : 28900\n",
            "172 : 29584\n",
            "174 : 30276\n",
            "176 : 30976\n",
            "178 : 31684\n",
            "180 : 32400\n",
            "182 : 33124\n",
            "184 : 33856\n",
            "186 : 34596\n",
            "188 : 35344\n",
            "190 : 36100\n",
            "192 : 36864\n",
            "194 : 37636\n",
            "196 : 38416\n",
            "198 : 39204\n",
            "200 : 40000\n"
          ]
        }
      ]
    },
    {
      "cell_type": "markdown",
      "source": [
        "**4.write a program to count the number of words in a given text.**"
      ],
      "metadata": {
        "id": "JQYFS21Ptjii"
      }
    },
    {
      "cell_type": "code",
      "source": [
        "def countWord(text):\n",
        "  wordCount = {}\n",
        "  words = text.split()\n",
        "\n",
        "  for word in words:\n",
        "    word = word.strip(\".,!?\")\n",
        "    word = word.lower()\n",
        "    wordCount[word] = wordCount.get(word, 0) + 1\n",
        "\n",
        "  return wordCount\n",
        "\n",
        "inputText = \"This is a sample text. This text will be used to demonstrate the word counter.\"\n",
        "wordCounts = countWord(inputText)\n",
        "# print(wordCounts)\n",
        "# Print word count\n",
        "for word, count in wordCounts.items():\n",
        "  print(f\"'{word}' : {count}\")"
      ],
      "metadata": {
        "colab": {
          "base_uri": "https://localhost:8080/"
        },
        "id": "sxEYenYFtR_2",
        "outputId": "c6c7f4a0-5824-43c6-d207-04e978aec034"
      },
      "execution_count": null,
      "outputs": [
        {
          "output_type": "stream",
          "name": "stdout",
          "text": [
            "'this' : 2\n",
            "'is' : 1\n",
            "'a' : 1\n",
            "'sample' : 1\n",
            "'text' : 2\n",
            "'will' : 1\n",
            "'be' : 1\n",
            "'used' : 1\n",
            "'to' : 1\n",
            "'demonstrate' : 1\n",
            "'the' : 1\n",
            "'word' : 1\n",
            "'counter' : 1\n"
          ]
        }
      ]
    },
    {
      "cell_type": "markdown",
      "source": [
        "**5: Check For Palindrome**"
      ],
      "metadata": {
        "id": "f-MWhJWezwL3"
      }
    },
    {
      "cell_type": "code",
      "source": [
        "def is_palindrome(str):\n",
        "  modified_string = ''\n",
        "  # Iterate over each character in the input string\n",
        "  for char in str:\n",
        "    # Check if the character is alphanumeric (letter or digit)\n",
        "    if char.isalnum():\n",
        "      # If the character is alphanumeric, convert it to lowercase\n",
        "      char_lower = char.lower()\n",
        "      # Add chareter to modified string\n",
        "      modified_string += char_lower\n",
        "  # Assign the modified string to the variable 'str'\n",
        "  str = modified_string\n",
        "\n",
        "  # Check if the modified string is equal to its reverse\n",
        "  return str == str[::-1]\n",
        "\n",
        "# Using palindrome function here\n",
        "input_string = input(\"Input a string to check it palindrome or not ?\")\n",
        "print(is_palindrome(input_string))\n"
      ],
      "metadata": {
        "id": "vUhehEfMxJnJ",
        "colab": {
          "base_uri": "https://localhost:8080/"
        },
        "outputId": "87b7a6b5-8158-4036-b597-4827abbc884b"
      },
      "execution_count": 6,
      "outputs": [
        {
          "output_type": "stream",
          "name": "stdout",
          "text": [
            "Input a string to check it palindrome or not ?racecar\n",
            "True\n"
          ]
        }
      ]
    },
    {
      "cell_type": "code",
      "source": [],
      "metadata": {
        "id": "WST3k7-935ie"
      },
      "execution_count": null,
      "outputs": []
    }
  ]
}